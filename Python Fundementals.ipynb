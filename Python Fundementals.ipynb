{
 "cells": [
  {
   "cell_type": "code",
   "execution_count": null,
   "metadata": {},
   "outputs": [
    {
     "name": "stdout",
     "output_type": "stream",
     "text": [
      "Hello\n"
     ]
    }
   ],
   "source": [
    "#print Hello World\n",
    "print(\"Hello World\")"
   ]
  },
  {
   "cell_type": "code",
   "execution_count": null,
   "metadata": {},
   "outputs": [
    {
     "name": "stdout",
     "output_type": "stream",
     "text": [
      "200\n",
      "<class 'int'>\n"
     ]
    }
   ],
   "source": [
    "#varriable type recognition\n",
    "a = 200\n",
    "print(a)\n",
    "print(type(a))\n",
    "\n",
    "print(\"Type of variable having Value\", a, \"is\", type(a), 200, 200.2)"
   ]
  },
  {
   "cell_type": "code",
   "execution_count": null,
   "metadata": {},
   "outputs": [
    {
     "name": "stdout",
     "output_type": "stream",
     "text": [
      "25000.0\n",
      "<class 'float'>\n"
     ]
    }
   ],
   "source": [
    "#2.5 * 10^4 = 2.5e4\n",
    "num_1 = 2.5e4\n",
    "print(num_1)\n",
    "print(type(num_1))"
   ]
  },
  {
   "cell_type": "code",
   "execution_count": null,
   "metadata": {},
   "outputs": [
    {
     "name": "stdout",
     "output_type": "stream",
     "text": [
      "5.0 <class 'float'>\n",
      "12 <class 'int'>\n"
     ]
    }
   ],
   "source": [
    "#casting\n",
    "num_1 = 5\n",
    "num_2 = 12.7\n",
    "\n",
    "a = float(num_1)\n",
    "print(a,type(a))\n",
    "\n",
    "b = int(num_2)\n",
    "print(b,type(b))"
   ]
  },
  {
   "cell_type": "code",
   "execution_count": null,
   "metadata": {},
   "outputs": [
    {
     "name": "stdout",
     "output_type": "stream",
     "text": [
      "[1, 10, 15, 8] <class 'list'>\n",
      "[1, 25, 15, 8]\n"
     ]
    }
   ],
   "source": [
    "#list type\n",
    "my_list = [1,10,15,8]\n",
    "print(my_list,type(my_list))\n",
    "\n",
    "my_list[1] = 25\n",
    "print(my_list)"
   ]
  },
  {
   "cell_type": "code",
   "execution_count": null,
   "metadata": {},
   "outputs": [
    {
     "name": "stdout",
     "output_type": "stream",
     "text": [
      "8\n",
      "[10, 10, 'cat', 8, True]\n",
      "[1, 10, 10]\n",
      "['cat', 8, True]\n",
      "[1, 10, 'Dog', 19.0, 8, True]\n",
      "[1, 10, 'Dog', 'rabbit', 19.0, 8, True] 7\n",
      "[1, 10, 'Dog', 'rabbit', 19.0, 8, True, 'car'] 8\n"
     ]
    }
   ],
   "source": [
    "#List index selection\n",
    "my_list = [1,10,10,\"cat\",8,True]\n",
    "\n",
    "print(my_list[-2])\n",
    "\n",
    "print(my_list[1:6])\n",
    "\n",
    "print(my_list[:3])\n",
    "\n",
    "print(my_list[3:])\n",
    "\n",
    "#select and change index range\n",
    "my_list[2:4] = [\"Dog\",19.0]\n",
    "print(my_list)\n",
    "\n",
    "#add new data to index without deleting existing data\n",
    "my_list.insert(3,\"rabbit\")\n",
    "print(my_list,len(my_list))\n",
    "\n",
    "#add data to end of the list\n",
    "my_list.append(\"car\")\n",
    "print(my_list,len(my_list))"
   ]
  },
  {
   "cell_type": "code",
   "execution_count": 36,
   "metadata": {},
   "outputs": [
    {
     "name": "stdout",
     "output_type": "stream",
     "text": [
      "[1, 10]\n"
     ]
    }
   ],
   "source": [
    "#Third one will skip one in the range\n",
    "my_list = [1,10,10,\"cat\",8,True]\n",
    "\n",
    "print(my_list[0:4:2])"
   ]
  },
  {
   "cell_type": "code",
   "execution_count": null,
   "metadata": {},
   "outputs": [
    {
     "name": "stdout",
     "output_type": "stream",
     "text": [
      "[1, 10, 8]\n"
     ]
    }
   ],
   "source": [
    "#unassigned values means to start from 0 and end from end\n",
    "my_list = [1,10,10,\"cat\",8,True]\n",
    "\n",
    "print(my_list[ : :2])"
   ]
  },
  {
   "cell_type": "code",
   "execution_count": null,
   "metadata": {},
   "outputs": [
    {
     "name": "stdout",
     "output_type": "stream",
     "text": [
      "[1, 10, 10, 'cat', 8, True] 6\n",
      "[1, 10, 10, 'cat', 8, True, 'Bus', False, 17] 9\n"
     ]
    }
   ],
   "source": [
    "#combine 2 Lists\n",
    "my_list = [1,10,10,\"cat\",8,True]\n",
    "new_list = [\"Bus\",False,17]\n",
    "print(my_list,len(my_list))\n",
    "\n",
    "my_list.extend(new_list)\n",
    "print(my_list,len(my_list))"
   ]
  },
  {
   "cell_type": "code",
   "execution_count": null,
   "metadata": {},
   "outputs": [
    {
     "name": "stdout",
     "output_type": "stream",
     "text": [
      "[1, 10, 10, 'cat', 8, True] 6\n",
      "[1, 10, 'cat', 8, True] 5\n"
     ]
    }
   ],
   "source": [
    "#deletes specified index\n",
    "my_list = [1,10,10,\"cat\",8,True]\n",
    "print(my_list,len(my_list))\n",
    "my_list.pop(2)\n",
    "print(my_list,len(my_list))"
   ]
  },
  {
   "cell_type": "code",
   "execution_count": 20,
   "metadata": {},
   "outputs": [
    {
     "name": "stdout",
     "output_type": "stream",
     "text": [
      "[1, 10, 10, 'cat', 8, True] 6\n",
      "[1, 10, 'cat', 8, True] 5\n"
     ]
    }
   ],
   "source": [
    "my_list = [1,10,10,\"cat\",8,True]\n",
    "print(my_list,len(my_list))\n",
    "\n",
    "del my_list[2]\n",
    "\n",
    "print(my_list,len(my_list))\n",
    "\n",
    "#This deletes entire list\n",
    "# del my_list\n",
    "\n",
    "# print(my_list,len(my_list))"
   ]
  },
  {
   "cell_type": "code",
   "execution_count": null,
   "metadata": {},
   "outputs": [
    {
     "name": "stdout",
     "output_type": "stream",
     "text": [
      "[1, 10, 10, 'cat', 8, True] 6\n",
      "[] 0\n"
     ]
    }
   ],
   "source": [
    "#clear list\n",
    "my_list = [1,10,10,\"cat\",8,True]\n",
    "print(my_list,len(my_list))\n",
    "\n",
    "my_list.clear()\n",
    "print(my_list,len(my_list))"
   ]
  },
  {
   "cell_type": "code",
   "execution_count": null,
   "metadata": {},
   "outputs": [
    {
     "name": "stdout",
     "output_type": "stream",
     "text": [
      "['apple', 'banana', 'dog', 'parrot']\n"
     ]
    }
   ],
   "source": [
    "#Sort to Alphabaticle order\n",
    "my_list = [\"dog\",\"apple\",\"parrot\",\"banana\"]\n",
    "\n",
    "\n",
    "my_list.sort()\n",
    "\n",
    "print(my_list)"
   ]
  },
  {
   "cell_type": "code",
   "execution_count": 23,
   "metadata": {},
   "outputs": [
    {
     "name": "stdout",
     "output_type": "stream",
     "text": [
      "['Parrot', 'apple', 'banana', 'dog']\n"
     ]
    }
   ],
   "source": [
    "#Sort to Alphabaticle order\n",
    "my_list = [\"dog\",\"apple\",\"Parrot\",\"banana\"]\n",
    "\n",
    "#Case sensitive sort - This will give priority to Capital Letters\n",
    "my_list.sort()\n",
    "\n",
    "print(my_list)"
   ]
  },
  {
   "cell_type": "code",
   "execution_count": 34,
   "metadata": {},
   "outputs": [
    {
     "name": "stdout",
     "output_type": "stream",
     "text": [
      "['dog', 'banana', 'apple', 'Parrot']\n"
     ]
    }
   ],
   "source": [
    "#Sort to Alphabaticle order\n",
    "my_list = [\"dog\",\"apple\",\"Parrot\",\"banana\"]\n",
    "\n",
    "#This will flip previous Result\n",
    "my_list.sort(reverse=True)\n",
    "\n",
    "print(my_list)"
   ]
  },
  {
   "cell_type": "code",
   "execution_count": null,
   "metadata": {},
   "outputs": [
    {
     "name": "stdout",
     "output_type": "stream",
     "text": [
      "['apple', 'banana', 'dog', 'Parrot']\n"
     ]
    }
   ],
   "source": [
    "#Sort to Alphabaticle order\n",
    "my_list = [\"dog\",\"apple\",\"Parrot\",\"banana\"]\n",
    "\n",
    "#Non-Case sensitive sort - This will not give priority to Capital Letters\n",
    "my_list.sort(key=str.lower)\n",
    "\n",
    "print(my_list)"
   ]
  },
  {
   "cell_type": "code",
   "execution_count": null,
   "metadata": {},
   "outputs": [
    {
     "name": "stdout",
     "output_type": "stream",
     "text": [
      "['banana', 'Parrot', 'apple', 'dog']\n"
     ]
    }
   ],
   "source": [
    "#Sort to Alphabaticle order\n",
    "my_list = [\"dog\",\"apple\",\"Parrot\",\"banana\"]\n",
    "\n",
    "#reverse the List (Flip alternative)\n",
    "my_list.reverse()\n",
    "\n",
    "print(my_list)"
   ]
  },
  {
   "cell_type": "code",
   "execution_count": 60,
   "metadata": {},
   "outputs": [
    {
     "name": "stdout",
     "output_type": "stream",
     "text": [
      "UnSorted List:  [-10, -18, 12, 5, 7, 12, -3, 8, 4, -3, 9, 2, 11]\n",
      "Sorted List:  [-18, -10, -3, -3, 2, 4, 5, 7, 8, 9, 11, 12, 12]\n",
      "Median: 5\n",
      "Q1 Vlaue:  -3\n",
      "Q3 Vlaue:  9\n"
     ]
    }
   ],
   "source": [
    "my_list_1 = [-10,-18,12,5,7,12,-3]\n",
    "my_list_2 = [8,4,-3,9,2,11]\n",
    "\n",
    "#combine 2 Lists\n",
    "my_list_1.extend(my_list_2)\n",
    "print(\"UnSorted List: \",my_list_1)\n",
    "\n",
    "my_list_1.sort()\n",
    "print(\"Sorted List: \",my_list_1)\n",
    "\n",
    "#median of Combined List\n",
    "length = len(my_list_1)\n",
    "if length % 2 == 1:  #check odd median\n",
    "    median = my_list_1[length // 2]\n",
    "else: #check even median\n",
    "    median = int ( length + 1 ) / 2\n",
    "\n",
    "print(\"Median:\", median)\n",
    "\n",
    "#Q1\n",
    "q_1 = length // 4\n",
    "print(\"Q1 Vlaue: \",my_list_1[q_1])\n",
    "\n",
    "#Q3\n",
    "q_3 = length // 4\n",
    "print(\"Q3 Vlaue: \",my_list_1[q_3*3])\n",
    "\n"
   ]
  },
  {
   "cell_type": "code",
   "execution_count": 9,
   "metadata": {},
   "outputs": [
    {
     "name": "stdout",
     "output_type": "stream",
     "text": [
      "[20, 'H', 'Dog', True]\n",
      "[20, 15, 'Dog', True]\n"
     ]
    }
   ],
   "source": [
    "#copy one list to another\n",
    "my_list1 = [20,15,\"Dog\",True]\n",
    "my_list2 = []\n",
    "\n",
    "my_list2.extend(my_list1)\n",
    "my_list1[1] = \"H\"\n",
    "print(my_list1)\n",
    "print(my_list2)"
   ]
  },
  {
   "cell_type": "code",
   "execution_count": null,
   "metadata": {},
   "outputs": [
    {
     "name": "stdout",
     "output_type": "stream",
     "text": [
      "[20, '5', 'Dog', True]\n",
      "[20, 15, 'Dog', True]\n"
     ]
    }
   ],
   "source": [
    "#copy one list to another standard way\n",
    "my_list1 = [20,15,\"Dog\",True]\n",
    "my_list2 = []\n",
    "\n",
    "my_list2 = my_list1.copy()\n",
    "my_list1[1] = \"5\"\n",
    "print(my_list1)\n",
    "print(my_list2)"
   ]
  },
  {
   "cell_type": "code",
   "execution_count": null,
   "metadata": {},
   "outputs": [
    {
     "name": "stdout",
     "output_type": "stream",
     "text": [
      "[20, 15, 'Dog', True, 20, 'HappyCow']\n"
     ]
    }
   ],
   "source": [
    "#Extend Alternative\n",
    "my_list1 = [20,15,\"Dog\",True]\n",
    "my_list2 = [20,\"HappyCow\"]\n",
    "\n",
    "my_list3 = my_list1 + my_list2\n",
    "print(my_list3)"
   ]
  },
  {
   "cell_type": "code",
   "execution_count": 19,
   "metadata": {},
   "outputs": [
    {
     "name": "stdout",
     "output_type": "stream",
     "text": [
      "('ascoan', 'sac') <class 'tuple'>\n",
      "<class 'tuple'> <class 'str'>\n",
      "sac\n"
     ]
    }
   ],
   "source": [
    "#Tuples\n",
    "\n",
    "sports1 = (\"ascoan\", \"sac\")\n",
    "print(sports1, type(sports1))\n",
    "\n",
    "#to store 1 item in a tuple you have to use comma after\n",
    "sports2 = (\"ascoan\",)\n",
    "sports3 = (\"ascoan\")\n",
    "print(type(sports2),type(sports3))\n",
    "\n",
    "#negative positions are all the same\n",
    "print(sports1[-1])"
   ]
  },
  {
   "cell_type": "code",
   "execution_count": null,
   "metadata": {},
   "outputs": [
    {
     "ename": "TypeError",
     "evalue": "'tuple' object does not support item assignment",
     "output_type": "error",
     "traceback": [
      "\u001b[1;31m---------------------------------------------------------------------------\u001b[0m",
      "\u001b[1;31mTypeError\u001b[0m                                 Traceback (most recent call last)",
      "Cell \u001b[1;32mIn[21], line 3\u001b[0m\n\u001b[0;32m      1\u001b[0m my_tuple_1 \u001b[38;5;241m=\u001b[39m (\u001b[38;5;124m\"\u001b[39m\u001b[38;5;124mDog\u001b[39m\u001b[38;5;124m\"\u001b[39m, \u001b[38;5;124m\"\u001b[39m\u001b[38;5;124mCat\u001b[39m\u001b[38;5;124m\"\u001b[39m, \u001b[38;5;241m10\u001b[39m)\n\u001b[1;32m----> 3\u001b[0m \u001b[43mmy_tuple_1\u001b[49m\u001b[43m[\u001b[49m\u001b[38;5;241;43m1\u001b[39;49m\u001b[43m]\u001b[49m \u001b[38;5;241m=\u001b[39m \u001b[38;5;124m\"\u001b[39m\u001b[38;5;124mRat\u001b[39m\u001b[38;5;124m\"\u001b[39m\n\u001b[0;32m      4\u001b[0m \u001b[38;5;28mprint\u001b[39m(my_tuple_1[\u001b[38;5;241m1\u001b[39m])\n",
      "\u001b[1;31mTypeError\u001b[0m: 'tuple' object does not support item assignment"
     ]
    }
   ],
   "source": [
    "#Tuples are Immutable\n",
    "my_tuple_1 = (\"Dog\", \"Cat\", 10)\n",
    "\n",
    "my_tuple_1[1] = \"Rat\"\n",
    "print(my_tuple_1[1])"
   ]
  },
  {
   "cell_type": "code",
   "execution_count": 27,
   "metadata": {},
   "outputs": [
    {
     "name": "stdout",
     "output_type": "stream",
     "text": [
      "('Dog', 'Rat', 10) <class 'tuple'>\n"
     ]
    }
   ],
   "source": [
    "#Converting Tuple to List In order to make It Mutable\n",
    "my_tuple_1 = (\"Dog\", \"Cat\", 10)\n",
    "\n",
    "my_list_1 = list(my_tuple_1)\n",
    "my_list_1[1] = \"Rat\"\n",
    "my_tuple_1 = tuple(my_list_1)\n",
    "print(my_tuple_1,type(my_tuple_1))"
   ]
  },
  {
   "cell_type": "code",
   "execution_count": null,
   "metadata": {},
   "outputs": [
    {
     "name": "stdout",
     "output_type": "stream",
     "text": [
      "[10, 8, 5]\n",
      "(-1, 5, 5, 8, 9, 10) <class 'tuple'>\n"
     ]
    }
   ],
   "source": [
    "#Excersice\n",
    "my_tuple_1 = (10,8,20,5)\n",
    "my_tuple_2 = (5,9,-1)\n",
    "\n",
    "my_list_1 = list(my_tuple_1)\n",
    "my_list_2 = list(my_tuple_2)\n",
    "\n",
    "my_list_1.pop(2)\n",
    "print(my_list_1) \n",
    "\n",
    "my_list_1.extend(my_list_2)\n",
    "my_list_1.sort()\n",
    "my_tuple_3 = tuple(my_list_1)\n",
    "print(my_tuple_3, type(my_tuple_3))\n"
   ]
  },
  {
   "cell_type": "code",
   "execution_count": 2,
   "metadata": {},
   "outputs": [
    {
     "name": "stdout",
     "output_type": "stream",
     "text": [
      "10\n",
      "Rat\n",
      "True\n"
     ]
    }
   ],
   "source": [
    "#nested Tuple\n",
    "my_tuple_1 = ( (1,10,8), (\"Dog\",\"Cat\",\"Rat\"), (True,False) )\n",
    "\n",
    "print(my_tuple_1[0][1])\n",
    "print(my_tuple_1[1][2])\n",
    "print(my_tuple_1[2][0])\n"
   ]
  },
  {
   "cell_type": "code",
   "execution_count": null,
   "metadata": {},
   "outputs": [
    {
     "name": "stdout",
     "output_type": "stream",
     "text": [
      "2\n",
      "5\n",
      "8\n",
      "11\n",
      "14\n"
     ]
    }
   ],
   "source": [
    "#Range ( Use for Increment Operations )\n",
    "s_1 = range(2,15,3)\n",
    "for n in s_1 :\n",
    "    print(n)"
   ]
  },
  {
   "cell_type": "code",
   "execution_count": 2,
   "metadata": {},
   "outputs": [
    {
     "name": "stdout",
     "output_type": "stream",
     "text": [
      "3\n",
      "4\n",
      "5\n"
     ]
    }
   ],
   "source": [
    "x = range(3, 6)\n",
    "for n in x:\n",
    "  print(n)"
   ]
  },
  {
   "cell_type": "code",
   "execution_count": null,
   "metadata": {},
   "outputs": [
    {
     "ename": "TypeError",
     "evalue": "'str' object cannot be interpreted as an integer",
     "output_type": "error",
     "traceback": [
      "\u001b[1;31m---------------------------------------------------------------------------\u001b[0m",
      "\u001b[1;31mTypeError\u001b[0m                                 Traceback (most recent call last)",
      "Cell \u001b[1;32mIn[10], line 1\u001b[0m\n\u001b[1;32m----> 1\u001b[0m x \u001b[38;5;241m=\u001b[39m \u001b[38;5;28;43mrange\u001b[39;49m\u001b[43m(\u001b[49m\u001b[38;5;124;43m\"\u001b[39;49m\u001b[38;5;124;43mCat\u001b[39;49m\u001b[38;5;124;43m\"\u001b[39;49m\u001b[43m,\u001b[49m\u001b[38;5;241;43m6\u001b[39;49m\u001b[43m)\u001b[49m\n\u001b[0;32m      2\u001b[0m \u001b[38;5;28;01mfor\u001b[39;00m n \u001b[38;5;129;01min\u001b[39;00m x:\n\u001b[0;32m      3\u001b[0m     \u001b[38;5;28mprint\u001b[39m(n)\n",
      "\u001b[1;31mTypeError\u001b[0m: 'str' object cannot be interpreted as an integer"
     ]
    }
   ],
   "source": [
    "x = range(3,6)\n",
    "for n in x:\n",
    "    print(n)"
   ]
  },
  {
   "cell_type": "code",
   "execution_count": null,
   "metadata": {},
   "outputs": [
    {
     "name": "stdout",
     "output_type": "stream",
     "text": [
      "{'name': 'sugar', 'price': '250.50'} <class 'dict'>\n",
      "2\n"
     ]
    }
   ],
   "source": [
    "#Dictionary\n",
    "\n",
    "dict_1 = {\n",
    "    \"name\":\"sugar\",\n",
    "    \"price\":\"250.50\"\n",
    "}\n",
    "\n",
    "print(dict_1,type(dict_1))\n",
    "\n",
    "#dictionary also have a length\n",
    "print(len(dict_1))"
   ]
  },
  {
   "cell_type": "code",
   "execution_count": null,
   "metadata": {},
   "outputs": [
    {
     "name": "stdout",
     "output_type": "stream",
     "text": [
      "{'name': 'sugar', 'price': '255.50'} <class 'dict'>\n"
     ]
    }
   ],
   "source": [
    "#Dictionary Duplicates\n",
    "\n",
    "dict_1 = {\n",
    "    \"name\":\"sugar\",\n",
    "    \"price\":\"250.50\",\n",
    "    \"price\":\"255.50\"\n",
    "}\n",
    "\n",
    "#last value replace the previous value due to duplicate key\n",
    "print(dict_1,type(dict_1))"
   ]
  },
  {
   "cell_type": "code",
   "execution_count": 8,
   "metadata": {},
   "outputs": [
    {
     "name": "stdout",
     "output_type": "stream",
     "text": [
      "250.50\n"
     ]
    }
   ],
   "source": [
    "#key should be used to access data\n",
    "\n",
    "dict_1 = {\n",
    "    \"name\":\"sugar\",\n",
    "    \"price\":\"250.50\"\n",
    "}\n",
    "\n",
    "print(dict_1[\"price\"])"
   ]
  },
  {
   "cell_type": "code",
   "execution_count": null,
   "metadata": {},
   "outputs": [
    {
     "name": "stdout",
     "output_type": "stream",
     "text": [
      "{'name': 'Sh', 'price': '200.00'}\n"
     ]
    }
   ],
   "source": [
    "#update Data\n",
    "dict_1 = {\n",
    "    \"name\":\"sugar\",\n",
    "    \"price\":\"250.50\"\n",
    "}\n",
    "\n",
    "dict_1.update({\n",
    "    \"name\":\"Sh\",\n",
    "    \"price\":\"200.00\"\n",
    "    })\n",
    "\n",
    "print(dict_1)"
   ]
  },
  {
   "cell_type": "code",
   "execution_count": null,
   "metadata": {},
   "outputs": [
    {
     "name": "stdout",
     "output_type": "stream",
     "text": [
      "{'name': 'sugar', 'price': '250.50', 'color': 'white'} 3\n"
     ]
    }
   ],
   "source": [
    "#Updating non existing item\n",
    "dict_1 = {\n",
    "    \"name\":\"sugar\",\n",
    "    \"price\":\"250.50\"\n",
    "}\n",
    "\n",
    "dict_1[\"color\"] = \"white\"\n",
    "print(dict_1, len(dict_1))"
   ]
  },
  {
   "cell_type": "code",
   "execution_count": null,
   "metadata": {},
   "outputs": [
    {
     "name": "stdout",
     "output_type": "stream",
     "text": [
      "{'price': '250.50'}\n"
     ]
    }
   ],
   "source": [
    "#remove specific key item\n",
    "dict_1 = {\n",
    "    \"name\":\"sugar\",\n",
    "    \"price\":\"250.50\"\n",
    "}\n",
    "\n",
    "dict_1.pop(\"name\")\n",
    "print(dict_1)"
   ]
  },
  {
   "cell_type": "code",
   "execution_count": null,
   "metadata": {},
   "outputs": [
    {
     "name": "stdout",
     "output_type": "stream",
     "text": [
      "{'name': 'sugar'}\n"
     ]
    }
   ],
   "source": [
    "#last Item Remove\n",
    "dict_1 = {\n",
    "    \"name\":\"sugar\",\n",
    "    \"price\":\"250.50\"\n",
    "}\n",
    "\n",
    "dict_1.popitem()\n",
    "print(dict_1)"
   ]
  },
  {
   "cell_type": "code",
   "execution_count": null,
   "metadata": {},
   "outputs": [
    {
     "name": "stdout",
     "output_type": "stream",
     "text": [
      "{'name': 'sugar'}\n"
     ]
    }
   ],
   "source": [
    "#Destroy Dictionary\n",
    "dict_1 = {\n",
    "    \"name\":\"sugar\",\n",
    "    \"price\":\"250.50\"\n",
    "}\n",
    "\n",
    "del dict_1[\"price\"]\n",
    "print(dict_1)\n",
    "\n",
    "del dict_1\n",
    "print(len(dict_1))"
   ]
  },
  {
   "cell_type": "code",
   "execution_count": 12,
   "metadata": {},
   "outputs": [
    {
     "ename": "NameError",
     "evalue": "name 'dict_1' is not defined",
     "output_type": "error",
     "traceback": [
      "\u001b[1;31m---------------------------------------------------------------------------\u001b[0m",
      "\u001b[1;31mNameError\u001b[0m                                 Traceback (most recent call last)",
      "Cell \u001b[1;32mIn[12], line 8\u001b[0m\n\u001b[0;32m      2\u001b[0m dict_1 \u001b[38;5;241m=\u001b[39m {\n\u001b[0;32m      3\u001b[0m     \u001b[38;5;124m\"\u001b[39m\u001b[38;5;124mname\u001b[39m\u001b[38;5;124m\"\u001b[39m:\u001b[38;5;124m\"\u001b[39m\u001b[38;5;124msugar\u001b[39m\u001b[38;5;124m\"\u001b[39m,\n\u001b[0;32m      4\u001b[0m     \u001b[38;5;124m\"\u001b[39m\u001b[38;5;124mprice\u001b[39m\u001b[38;5;124m\"\u001b[39m:\u001b[38;5;124m\"\u001b[39m\u001b[38;5;124m250.50\u001b[39m\u001b[38;5;124m\"\u001b[39m\n\u001b[0;32m      5\u001b[0m }\n\u001b[0;32m      7\u001b[0m \u001b[38;5;28;01mdel\u001b[39;00m dict_1\n\u001b[1;32m----> 8\u001b[0m \u001b[38;5;28mprint\u001b[39m(\u001b[38;5;28mlen\u001b[39m(\u001b[43mdict_1\u001b[49m))\n",
      "\u001b[1;31mNameError\u001b[0m: name 'dict_1' is not defined"
     ]
    }
   ],
   "source": [
    "#Destroy Dictionary\n",
    "dict_1 = {\n",
    "    \"name\":\"sugar\",\n",
    "    \"price\":\"250.50\"\n",
    "}\n",
    "\n",
    "del dict_1\n",
    "print(len(dict_1))"
   ]
  },
  {
   "cell_type": "code",
   "execution_count": null,
   "metadata": {},
   "outputs": [
    {
     "name": "stdout",
     "output_type": "stream",
     "text": [
      "{'name': 'sugar'}\n",
      "{}\n"
     ]
    }
   ],
   "source": [
    "#Clear dictionary\n",
    "dict_1 = {\n",
    "    \"name\":\"sugar\",\n",
    "    \"price\":\"250.50\"\n",
    "}\n",
    "\n",
    "del dict_1[\"price\"]\n",
    "print(dict_1)\n",
    "\n",
    "dict_1.clear()\n",
    "print(dict_1)"
   ]
  },
  {
   "cell_type": "code",
   "execution_count": 32,
   "metadata": {},
   "outputs": [
    {
     "name": "stdout",
     "output_type": "stream",
     "text": [
      "{'name': 'lalma', 'weight': '1kg', 'price': '120'} \n",
      " {'name': 'sugar', 'weight': '1kg', 'price': '120'}\n"
     ]
    }
   ],
   "source": [
    "#copy dictionary\n",
    "dict_1 = {\n",
    "\"name\":\"sugar\",\n",
    "\"weight\":\"1kg\",\n",
    "\"price\":\"120\"\n",
    "}\n",
    "\n",
    "# dict_2 = dict(dict_1)\n",
    "dict_2 = dict_1.copy()\n",
    "\n",
    "dict_1[\"name\"] = \"lalma\"\n",
    "print(dict_1,\"\\n\",dict_2)"
   ]
  },
  {
   "cell_type": "code",
   "execution_count": null,
   "metadata": {},
   "outputs": [
    {
     "name": "stdout",
     "output_type": "stream",
     "text": [
      "dict_keys(['name', 'weight', 'price'])\n"
     ]
    }
   ],
   "source": [
    "#Return Keys\n",
    "dict_1 = {\n",
    "\"name\":\"sugar\",\n",
    "\"weight\":\"1kg\",\n",
    "\"price\":\"120\"\n",
    "}\n",
    "\n",
    "print(dict_1.keys())"
   ]
  },
  {
   "cell_type": "code",
   "execution_count": 37,
   "metadata": {},
   "outputs": [
    {
     "name": "stdout",
     "output_type": "stream",
     "text": [
      "hi\n"
     ]
    }
   ],
   "source": [
    "x = input(\"Enter name: \")\n",
    "print(x)"
   ]
  },
  {
   "cell_type": "code",
   "execution_count": null,
   "metadata": {},
   "outputs": [
    {
     "name": "stdout",
     "output_type": "stream",
     "text": [
      "True\n"
     ]
    }
   ],
   "source": [
    "#arithmatic operators excercise\n",
    "x = input(\"Enter a number\")\n",
    "y = int(x) % 7\n",
    "\n",
    "print(y == 0)\n",
    "\n"
   ]
  },
  {
   "cell_type": "code",
   "execution_count": null,
   "metadata": {},
   "outputs": [
    {
     "name": "stdout",
     "output_type": "stream",
     "text": [
      "True\n"
     ]
    }
   ],
   "source": [
    "x = input(\"Enter Number: \")\n",
    "\n",
    "print( (int(x)>0) and (int(x)<100) and (int(x) % 2 != 0) )"
   ]
  },
  {
   "cell_type": "code",
   "execution_count": 66,
   "metadata": {},
   "outputs": [
    {
     "name": "stdout",
     "output_type": "stream",
     "text": [
      "False\n",
      "True\n"
     ]
    }
   ],
   "source": [
    "#Identity Operators in Python\n",
    "x = 5\n",
    "y = 6\n",
    "\n",
    "print(x is y)\n",
    "print(x is not y)"
   ]
  },
  {
   "cell_type": "code",
   "execution_count": 69,
   "metadata": {},
   "outputs": [
    {
     "name": "stdout",
     "output_type": "stream",
     "text": [
      "True\n",
      "False\n",
      "True\n"
     ]
    }
   ],
   "source": [
    "#memberShip Operators simply check if a given value exists\n",
    "nums = [10,12,8,5,4]\n",
    "\n",
    "print(10 in nums)\n",
    "print(15 in nums)\n",
    "print(15 not in nums)"
   ]
  },
  {
   "cell_type": "code",
   "execution_count": 76,
   "metadata": {},
   "outputs": [
    {
     "name": "stdout",
     "output_type": "stream",
     "text": [
      "1\n"
     ]
    }
   ],
   "source": [
    "x = 1\n",
    "y = 1\n",
    "z = x & y\n",
    "\n",
    "print(z)"
   ]
  },
  {
   "cell_type": "code",
   "execution_count": null,
   "metadata": {},
   "outputs": [
    {
     "name": "stdout",
     "output_type": "stream",
     "text": [
      "This is an Odd Number\n"
     ]
    }
   ],
   "source": [
    "#Control Flow Statements\n",
    "n = int(input(\"Enter A Number\"))\n",
    "\n",
    "if n%2 == 0:\n",
    "    print(\"This is an Even Number\")\n",
    "else:\n",
    "    print(\"This is an Odd Number\")"
   ]
  },
  {
   "cell_type": "code",
   "execution_count": null,
   "metadata": {},
   "outputs": [
    {
     "name": "stdout",
     "output_type": "stream",
     "text": [
      "This is a positive Number\n"
     ]
    }
   ],
   "source": [
    "#Else if\n",
    "a = int(input(\"Enter A Number\"))\n",
    "\n",
    "if a<0:\n",
    "    print(\"This is a negative number\")\n",
    "elif a>0:\n",
    "    print(\"This is a positive Number\")\n",
    "else:\n",
    "    print(\"This is Zero\")"
   ]
  },
  {
   "cell_type": "code",
   "execution_count": 117,
   "metadata": {},
   "outputs": [
    {
     "name": "stdout",
     "output_type": "stream",
     "text": [
      "F\n"
     ]
    }
   ],
   "source": [
    "marks = int(input(\"Enter mark\"))\n",
    "\n",
    "if marks > 100 or x < 0:\n",
    "    print(\"Out Of Range\")\n",
    "elif( marks >= 85 ):\n",
    "    print(\"A\")\n",
    "elif( marks >= 75 ):\n",
    "    print(\"B\")\n",
    "elif( marks >= 65 ):\n",
    "    print(\"C\")\n",
    "elif(marks >= 55):\n",
    "    print(\"D\")\n",
    "else:\n",
    "    print(\"F\")"
   ]
  },
  {
   "cell_type": "code",
   "execution_count": 124,
   "metadata": {},
   "outputs": [
    {
     "name": "stdout",
     "output_type": "stream",
     "text": [
      "Largest number is:  30\n"
     ]
    }
   ],
   "source": [
    "a = 10\n",
    "b = 20\n",
    "c = 30\n",
    "\n",
    "print(\"Largest number is: \",max(a,b,c))"
   ]
  },
  {
   "cell_type": "code",
   "execution_count": 133,
   "metadata": {},
   "outputs": [
    {
     "name": "stdout",
     "output_type": "stream",
     "text": [
      "30\n"
     ]
    }
   ],
   "source": [
    "a = 10\n",
    "b = 20\n",
    "c = 30\n",
    "\n",
    "if a>b :\n",
    "    if a>c :\n",
    "        print(a)\n",
    "    else:\n",
    "        print(c)\n",
    "elif b>c :\n",
    "    print(b)\n",
    "else:\n",
    "    print(c)"
   ]
  },
  {
   "cell_type": "code",
   "execution_count": null,
   "metadata": {},
   "outputs": [
    {
     "name": "stdout",
     "output_type": "stream",
     "text": [
      "Even\n"
     ]
    }
   ],
   "source": [
    "#Turnery\n",
    "\n",
    "x = int(input(\"Enter Int\"))\n",
    "result = \"Even\" if x % 2 == 0 else \"Odd\"\n",
    "print(result)"
   ]
  },
  {
   "cell_type": "code",
   "execution_count": 15,
   "metadata": {},
   "outputs": [
    {
     "name": "stdout",
     "output_type": "stream",
     "text": [
      "Ok\n"
     ]
    }
   ],
   "source": [
    "x = int(input(\"Enter int\"))\n",
    "\n",
    "result = \"Ok\" if x%3 == 0 and x%2 == 0 else \"not ok\"\n",
    "print(result)"
   ]
  },
  {
   "cell_type": "code",
   "execution_count": null,
   "metadata": {},
   "outputs": [
    {
     "name": "stdout",
     "output_type": "stream",
     "text": [
      "not ok\n"
     ]
    }
   ],
   "source": [
    "#Same as above\n",
    "x = int(input(\"Enter int\"))\n",
    "\n",
    "result = \"Ok\" if x%6 == 0 else \"not ok\"\n",
    "print(result)"
   ]
  },
  {
   "cell_type": "code",
   "execution_count": 23,
   "metadata": {},
   "outputs": [
    {
     "name": "stdout",
     "output_type": "stream",
     "text": [
      "Ok\n"
     ]
    }
   ],
   "source": [
    "response_code = int(input(\"Enter Nummber\"))\n",
    "\n",
    "match response_code:\n",
    "    case 200:\n",
    "        print(\"Ok\")\n",
    "    case 201:\n",
    "        print(\"Created\")\n",
    "    case 404:\n",
    "        print(\"404 Not Found\")\n",
    "    case 500:\n",
    "        print(\"Internal Server Error\")\n",
    "    case _:\n",
    "        print(\"Something else\")"
   ]
  },
  {
   "cell_type": "code",
   "execution_count": null,
   "metadata": {},
   "outputs": [
    {
     "name": "stdout",
     "output_type": "stream",
     "text": [
      "Zero\n"
     ]
    }
   ],
   "source": [
    "#match with if Standard\n",
    "x = int(input(\"Enter Number\"))\n",
    "\n",
    "match x:\n",
    "    case 0:\n",
    "        print(\"Zero\")\n",
    "    case -1:\n",
    "        print(\"Negative One\")\n",
    "    case 1:\n",
    "        print(\"Positive One\")\n",
    "    case _ if x>1:\n",
    "        print(\"Positive Number Greater Than One\")\n",
    "    case _ if x<-1:\n",
    "        print(\"Negative Number less Than Negative One\")\n",
    "    case _:\n",
    "        print(\"Unmatched Case\")"
   ]
  },
  {
   "cell_type": "code",
   "execution_count": 28,
   "metadata": {},
   "outputs": [
    {
     "name": "stdout",
     "output_type": "stream",
     "text": [
      "Positive Number Greater Than One\n"
     ]
    }
   ],
   "source": [
    "#match with alternative\n",
    "x = int(input(\"Enter Number\"))\n",
    "\n",
    "match x:\n",
    "    case 0:\n",
    "        print(\"Zero\")\n",
    "    case -1:\n",
    "        print(\"Negative One\")\n",
    "    case 1:\n",
    "        print(\"Positive One\")\n",
    "    case x if x>1:\n",
    "        print(\"Positive Number Greater Than One\")\n",
    "    case x if x<-1:\n",
    "        print(\"Negative Number less Than Negative One\")\n",
    "    case _:\n",
    "        print(\"Unmatched Case\")"
   ]
  },
  {
   "cell_type": "code",
   "execution_count": null,
   "metadata": {},
   "outputs": [
    {
     "name": "stdout",
     "output_type": "stream",
     "text": [
      "14\n"
     ]
    }
   ],
   "source": [
    "#Pattern Matching\n",
    "numbers = [4, 3, 7]\n",
    "\n",
    "match numbers:\n",
    "    case [x, y]:\n",
    "        print(x * y)\n",
    "    case [x, y, z]:\n",
    "        print(x + y + z)\n",
    "    case _:\n",
    "        print(\"The list does not contain 2 or 3 numbers!\")"
   ]
  },
  {
   "cell_type": "code",
   "execution_count": null,
   "metadata": {},
   "outputs": [
    {
     "name": "stdout",
     "output_type": "stream",
     "text": [
      "List has the Elements\n"
     ]
    }
   ],
   "source": [
    "#Check list Length\n",
    "my_list = [x, y]\n",
    "\n",
    "match my_list:\n",
    "    case []:\n",
    "        print(\"Empty List\")\n",
    "    case [x]:\n",
    "        print(\"List has Single Elements\")\n",
    "    case [x, y]:\n",
    "        print(\"List has the Elements\")\n",
    "    case _:\n",
    "        print(\"This is Something Else\")"
   ]
  },
  {
   "cell_type": "code",
   "execution_count": 38,
   "metadata": {},
   "outputs": [
    {
     "name": "stdout",
     "output_type": "stream",
     "text": [
      "apple\n",
      "banana\n",
      "cherry\n"
     ]
    }
   ],
   "source": [
    "#For loop\n",
    "fruits = [\"apple\", \"banana\", \"cherry\"]\n",
    "\n",
    "for fruit in fruits:\n",
    "    print(fruit)"
   ]
  },
  {
   "cell_type": "code",
   "execution_count": 47,
   "metadata": {},
   "outputs": [
    {
     "name": "stdout",
     "output_type": "stream",
     "text": [
      "[4, 25, 64]\n"
     ]
    }
   ],
   "source": [
    "#Excersice\n",
    "my_list = [2, 5, 8]\n",
    "_squares = []\n",
    "\n",
    "for x in my_list:\n",
    "    _squares.append(x*x)\n",
    "    \n",
    "print(_squares)\n",
    "\n"
   ]
  },
  {
   "cell_type": "code",
   "execution_count": 49,
   "metadata": {},
   "outputs": [
    {
     "data": {
      "text/plain": [
       "[4, 25, 64]"
      ]
     },
     "execution_count": 49,
     "metadata": {},
     "output_type": "execute_result"
    }
   ],
   "source": [
    "#above in one line\n",
    "my_list = [2, 5, 8]\n",
    "\n",
    "[ x**2 for x in my_list]"
   ]
  },
  {
   "cell_type": "code",
   "execution_count": 50,
   "metadata": {},
   "outputs": [
    {
     "data": {
      "text/plain": [
       "[1, 4, 9, 16, 25, 36, 49, 64, 81, 100]"
      ]
     },
     "execution_count": 50,
     "metadata": {},
     "output_type": "execute_result"
    }
   ],
   "source": [
    "#power in 1-10 in one line\n",
    "\n",
    "my_list = [1,2,3,4,5,6,7,8,9,10]\n",
    "\n",
    "[x**2 for x in my_list]"
   ]
  },
  {
   "cell_type": "code",
   "execution_count": null,
   "metadata": {},
   "outputs": [
    {
     "data": {
      "text/plain": [
       "[1, 4, 9, 16, 25, 36, 49, 64, 81, 100]"
      ]
     },
     "execution_count": 53,
     "metadata": {},
     "output_type": "execute_result"
    }
   ],
   "source": [
    "[x**2 for x in range(1,11,1)]"
   ]
  },
  {
   "cell_type": "code",
   "execution_count": 62,
   "metadata": {},
   "outputs": [
    {
     "data": {
      "text/plain": [
       "[4, 16, 36, 64, 100]"
      ]
     },
     "execution_count": 62,
     "metadata": {},
     "output_type": "execute_result"
    }
   ],
   "source": [
    "#1st way\n",
    "[x**2 for x in range(2,11,2)]\n",
    "\n",
    "#2nd way\n",
    "[x**2 for x in range(1,11,1) if x % 2 == 0]"
   ]
  },
  {
   "cell_type": "code",
   "execution_count": null,
   "metadata": {},
   "outputs": [
    {
     "name": "stdout",
     "output_type": "stream",
     "text": [
      "0, 1, 2, 3, 4, End\n"
     ]
    }
   ],
   "source": [
    "#While Loop\n",
    "m = 5\n",
    "i = 0\n",
    "\n",
    "while i < m:\n",
    "    print(i, end = \", \")\n",
    "    i = i + 1\n",
    "print(\"End\")"
   ]
  },
  {
   "cell_type": "code",
   "execution_count": 78,
   "metadata": {},
   "outputs": [
    {
     "name": "stdout",
     "output_type": "stream",
     "text": [
      "2, 4, 6, 8, 10, 12, 14, 16, 18, 20, 22, 24, 26, 28, 30, 32, 34, 36, 38, 40, 42, 44, 46, 48, End\n"
     ]
    }
   ],
   "source": [
    "x = int(input(\"Enter Number:\"))\n",
    "y = 2\n",
    "\n",
    "while y < x:\n",
    "    print(y, end = \", \")\n",
    "    y += 2\n",
    "    \n",
    "print(\"End\")"
   ]
  },
  {
   "cell_type": "code",
   "execution_count": null,
   "metadata": {},
   "outputs": [
    {
     "name": "stdout",
     "output_type": "stream",
     "text": [
      "2 4 6 8 10 12 14 16 18 20 22 24 26 28 30 32 34 36 38 40 42 44 46 48 50 52 54 56 58 60 62 64 66 68 70 72 74 76 78 80 82 84 86 88 90 92 94 96 98 End\n"
     ]
    }
   ],
   "source": [
    "#break\n",
    "x = int(input(\"Enter Number:\"))\n",
    "y = 2\n",
    "\n",
    "while y < x:\n",
    "    if y == 100:\n",
    "        break\n",
    "    else:\n",
    "        print(y, end=\" \")\n",
    "        y+=2\n",
    "    \n",
    "print(\"End\")"
   ]
  },
  {
   "cell_type": "code",
   "execution_count": 86,
   "metadata": {},
   "outputs": [
    {
     "name": "stdout",
     "output_type": "stream",
     "text": [
      "100\n"
     ]
    }
   ],
   "source": [
    "#Excercise\n",
    "total = 0\n",
    "\n",
    "while True:\n",
    "    i = int(input(\"Enter Number:\"))\n",
    "    if i == 0:\n",
    "        break\n",
    "    else:\n",
    "        total += i\n",
    "        \n",
    "print(total)\n",
    "\n",
    "    "
   ]
  },
  {
   "cell_type": "code",
   "execution_count": null,
   "metadata": {},
   "outputs": [
    {
     "name": "stdout",
     "output_type": "stream",
     "text": [
      "3\n",
      "15\n",
      "9\n",
      "7\n"
     ]
    }
   ],
   "source": [
    "#Continue - THIS SKIPS THE CURRENT ITERATION\n",
    "my_list = [3, 8, 15, 10, 9, 7, 14 ]\n",
    "\n",
    "for i in my_list:\n",
    "    if i%2==0:\n",
    "        continue\n",
    "    else:\n",
    "        print(i)"
   ]
  },
  {
   "cell_type": "code",
   "execution_count": 88,
   "metadata": {},
   "outputs": [
    {
     "name": "stdout",
     "output_type": "stream",
     "text": [
      "10 12 8\n"
     ]
    }
   ],
   "source": [
    "#Unpacking\n",
    "\n",
    "my_list = [10, 12, 8]\n",
    "\n",
    "x, y, z = my_list\n",
    "\n",
    "print(x, y, z)"
   ]
  },
  {
   "cell_type": "code",
   "execution_count": 89,
   "metadata": {},
   "outputs": [
    {
     "name": "stdout",
     "output_type": "stream",
     "text": [
      "10 12 8\n"
     ]
    }
   ],
   "source": [
    "my_tuple = (10, 12, 8)\n",
    "\n",
    "x, y, z = my_tuple\n",
    "\n",
    "print(x, y, z)"
   ]
  },
  {
   "cell_type": "code",
   "execution_count": null,
   "metadata": {},
   "outputs": [
    {
     "name": "stdout",
     "output_type": "stream",
     "text": [
      "name Shenan\n",
      "intention hello\n"
     ]
    }
   ],
   "source": [
    "#Dictionary Unpacking\n",
    "\n",
    "dictionary = {\n",
    "    \"name\":\"Shenan\",\n",
    "    \"intention\":\"hello\"\n",
    "}\n",
    "\n",
    "for key, value in dictionary.items():\n",
    "    print(key, value)"
   ]
  },
  {
   "cell_type": "code",
   "execution_count": 101,
   "metadata": {},
   "outputs": [
    {
     "name": "stdout",
     "output_type": "stream",
     "text": [
      "name\n",
      "intention\n"
     ]
    }
   ],
   "source": [
    "dictionary = {\n",
    "    \"name\":\"Shenan\",\n",
    "    \"intention\":\"hello\"\n",
    "}\n",
    "\n",
    "for key in dictionary.keys():\n",
    "    print(key)"
   ]
  },
  {
   "cell_type": "code",
   "execution_count": 102,
   "metadata": {},
   "outputs": [
    {
     "name": "stdout",
     "output_type": "stream",
     "text": [
      "Shenan\n",
      "hello\n"
     ]
    }
   ],
   "source": [
    "dictionary = {\n",
    "    \"name\":\"Shenan\",\n",
    "    \"intention\":\"hello\"\n",
    "}\n",
    "\n",
    "for value in dictionary.values():\n",
    "    print(value)"
   ]
  },
  {
   "cell_type": "code",
   "execution_count": null,
   "metadata": {},
   "outputs": [
    {
     "name": "stdout",
     "output_type": "stream",
     "text": [
      "{'a': 1, 'b': 2}\n"
     ]
    }
   ],
   "source": [
    "#Merging\n",
    "\n",
    "dict_1 = {'a':1}\n",
    "dict_2 = {'b':2}\n",
    "\n",
    "dict_3 = dict_1 | dict_2\n",
    "print(dict_3)"
   ]
  },
  {
   "cell_type": "code",
   "execution_count": null,
   "metadata": {},
   "outputs": [
    {
     "name": "stdout",
     "output_type": "stream",
     "text": [
      "1\n"
     ]
    }
   ],
   "source": [
    "#get dict values\n",
    "my_dict = {\n",
    "    'a':1,\n",
    "    'b':3,\n",
    "    'c':8\n",
    "}\n",
    "\n",
    "# my_dict['b']\n",
    "\n",
    "# my_dict.get('b', default_value)\n",
    "\n",
    "print(my_dict.get('b', int(1)))"
   ]
  },
  {
   "cell_type": "code",
   "execution_count": null,
   "metadata": {},
   "outputs": [],
   "source": [
    "#python function\n",
    "\n",
    "def calculate_volume(parameters):\n",
    "    return"
   ]
  },
  {
   "cell_type": "code",
   "execution_count": null,
   "metadata": {},
   "outputs": [
    {
     "name": "stdout",
     "output_type": "stream",
     "text": [
      "30\n"
     ]
    }
   ],
   "source": [
    "def addNumbers(a,b):\n",
    "    return a+b\n",
    "\n",
    "print( addNumbers(10,20) )"
   ]
  },
  {
   "cell_type": "code",
   "execution_count": null,
   "metadata": {},
   "outputs": [
    {
     "name": "stdout",
     "output_type": "stream",
     "text": [
      "2\n"
     ]
    }
   ],
   "source": [
    "PI_VALUE = 3.14\n",
    "\n",
    "def calculate_circle_area(r):\n",
    "    return PI_VALUE*r**2\n",
    "\n",
    "print( calculate_circle_area( int( input(\"input circle radius\") ) ) )"
   ]
  },
  {
   "cell_type": "code",
   "execution_count": 31,
   "metadata": {},
   "outputs": [
    {
     "name": "stdout",
     "output_type": "stream",
     "text": [
      "7.5\n"
     ]
    }
   ],
   "source": [
    "my_list = { 4, 8, 12, 5, 9, 7 }\n",
    "\n",
    "\n",
    "def mean_of_list(my_list1):\n",
    "    total = 0\n",
    "    \n",
    "    for n in my_list1:\n",
    "        total += n\n",
    "    return total / len(my_list1)\n",
    "\n",
    "print(mean_of_list(my_list))\n"
   ]
  },
  {
   "cell_type": "code",
   "execution_count": null,
   "metadata": {},
   "outputs": [],
   "source": [
    "#Three types of Arguments\n",
    "\n",
    "#Default Arguments\n",
    "#Keyword Arguments\n",
    "#Arbitary Positional Arguments"
   ]
  },
  {
   "cell_type": "code",
   "execution_count": null,
   "metadata": {},
   "outputs": [
    {
     "name": "stdout",
     "output_type": "stream",
     "text": [
      "2400.0\n"
     ]
    }
   ],
   "source": [
    "#Keyword parameters\n",
    "\n",
    "def calculate_total_cost(item_price, quantity, discount = 0, tax = 0):\n",
    "    \n",
    "    item_price = item_price * quantity\n",
    "    discount_price = item_price * discount/100\n",
    "    \n",
    "    item_total = item_price - discount_price\n",
    "    tax_value =  item_total * tax/100\n",
    "    \n",
    "    return item_total - tax_value\n",
    "    \n",
    "x = int(input(\"Enter qty\"))\n",
    "    \n",
    "print(calculate_total_cost(200, x, 60))"
   ]
  }
 ],
 "metadata": {
  "kernelspec": {
   "display_name": "Python 3",
   "language": "python",
   "name": "python3"
  },
  "language_info": {
   "codemirror_mode": {
    "name": "ipython",
    "version": 3
   },
   "file_extension": ".py",
   "mimetype": "text/x-python",
   "name": "python",
   "nbconvert_exporter": "python",
   "pygments_lexer": "ipython3",
   "version": "3.13.0"
  }
 },
 "nbformat": 4,
 "nbformat_minor": 2
}
